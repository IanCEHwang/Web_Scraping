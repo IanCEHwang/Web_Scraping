{
 "cells": [
  {
   "cell_type": "code",
   "execution_count": 1,
   "id": "bd7ba2af",
   "metadata": {},
   "outputs": [],
   "source": [
    "import requests\n",
    "import json\n",
    "import os\n",
    "import time\n",
    "import pandas as pd\n",
    "from bs4 import BeautifulSoup\n",
    "import re\n",
    "from urllib.request import Request, urlopen"
   ]
  },
  {
   "cell_type": "markdown",
   "id": "b3340ca8",
   "metadata": {},
   "source": [
    "### a) Use the URL identified above and write code that loads the first page with 40 items per page of “B&N Top 100”."
   ]
  },
  {
   "cell_type": "code",
   "execution_count": 39,
   "id": "5289f712",
   "metadata": {},
   "outputs": [],
   "source": [
    "### URL\n",
    "main_page_url = \"https://www.barnesandnoble.com\"\n",
    "URL = \"https://www.barnesandnoble.com/b/books/_/N-1fZ29Z8q8?Nrpp=40&page=1\"\n",
    "\n",
    "headers = {'User-Agent': 'Mozilla/5.0'}\n",
    "\n",
    "### request access\n",
    "r = requests.get(URL , headers = headers)\n",
    "\n",
    "### Assign bs4 object to soup\n",
    "soup = BeautifulSoup(r.content, 'html5lib')"
   ]
  },
  {
   "cell_type": "markdown",
   "id": "fd0730e2",
   "metadata": {},
   "source": [
    "### b) Take your code in (a) and create a list of each book’s product page URL. This list should be of length 40."
   ]
  },
  {
   "cell_type": "code",
   "execution_count": 40,
   "id": "6ed6fc43",
   "metadata": {},
   "outputs": [
    {
     "name": "stdout",
     "output_type": "stream",
     "text": [
      "Length of product list :  40\n"
     ]
    }
   ],
   "source": [
    "### list to contain all the hrefs\n",
    "product_page_list = []\n",
    "\n",
    "### locate the html object that contains all the products\n",
    "shelf = soup.find('ol' , attrs = {'class' : 'product-shelf-list product-list-view'})\n",
    "\n",
    "### append product href into list\n",
    "for book in shelf.find_all('h3' , attrs = {'class' : 'product-info-title'}):\n",
    "    product_page_list.append(main_page_url + str(book.find('a')['href']))\n",
    "    \n",
    "### print list length for reference\n",
    "print(\"Length of product list : \" , len(product_page_list))\n"
   ]
  },
  {
   "cell_type": "markdown",
   "id": "aff29a27",
   "metadata": {},
   "source": [
    "### c) Write a loop that downloads each product page of the top 40 books in “B&N Top 100”. e., save each of these pages to your computer using a meaningful filename (e.g., \"bn_top100_01.htm\"). IMPORTANT: Each page request needs to be followed by at least a 5 second pause!  Remember, you want your program to mimic your behavior as a human and help you make good purchasing decisions."
   ]
  },
  {
   "cell_type": "code",
   "execution_count": 41,
   "id": "b29dd814",
   "metadata": {
    "scrolled": true
   },
   "outputs": [],
   "source": [
    "### function for scrapping web page\n",
    "def read_and_safe(url , file_name):\n",
    "    ### request for access to url\n",
    "    req = Request(url , data=json.dumps({'param': 'piyo'}).encode(),\\\n",
    "              headers={'User-agent' : 'Mozilla/5.0'}, method='POST')\n",
    "    response = urlopen(req)\n",
    "    web = response.read().decode('UTF-8')\n",
    "    \n",
    "    ### write files\n",
    "    f = open(file_name , 'w')\n",
    "    f.write(web)\n",
    "    f.close()"
   ]
  },
  {
   "cell_type": "code",
   "execution_count": 42,
   "id": "7567449e",
   "metadata": {},
   "outputs": [],
   "source": [
    "### create directory for storing web pages\n",
    "try:\n",
    "    os.makedirs(\"product_output\")\n",
    "except:\n",
    "    pass"
   ]
  },
  {
   "cell_type": "code",
   "execution_count": 43,
   "id": "bbcbfa16",
   "metadata": {},
   "outputs": [],
   "source": [
    "### place to store product web pages\n",
    "directory = \"./product_output/\"\n",
    "\n",
    "### start scrapping\n",
    "for i in range(1 , len(product_page_list) + 1):\n",
    "    read_and_safe(product_page_list[i - 1] , directory + f\"bn_top_100_{i}.html\")\n",
    "    ### pause for 5 seconds\n",
    "    time.sleep(5)"
   ]
  },
  {
   "cell_type": "markdown",
   "id": "ea784dcb",
   "metadata": {},
   "source": [
    "### d) Write a separate piece of code that loops through the pages you downloaded in (c), opens and parses them into a Python or Java xxxxsoup-object. Next, access the “Overview” section of the page and print the first 100 characters of the overview text to screen."
   ]
  },
  {
   "cell_type": "code",
   "execution_count": 49,
   "id": "f77618cb",
   "metadata": {},
   "outputs": [
    {
     "name": "stdout",
     "output_type": "stream",
     "text": [
      "Product 1 overview : \n",
      "Notes From Your BooksellerLittle boy, beloved son, brother, husband and father, prince, soldier, and\n",
      "Product 2 overview : \n",
      "This Barnes & Noble Exclusive Edition includes a unique cover and case stamp and will contain exclus\n",
      "Product 3 overview : \n",
      "A New York Times BestsellerIf he had been with me, everything would have been different...Autumn and\n",
      "Product 4 overview : \n",
      "TO LIVEAND DREAMIS A WICKED DANCE.MY DREAMS OFTEN COME TRUE—A CURSE,AND A BLESSING.PAMELA ANDERSON’s\n",
      "Product 5 overview : \n",
      "A New York Times bestseller. In the tradition of Speak, this extraordinary debut novel “is a poignan\n",
      "Product 6 overview : \n",
      "The instant #1 New York Times bestselling mystery and Reese Witherspoon Book Club pick that’s captiv\n",
      "Product 7 overview : \n",
      "Notes From Your BooksellerAll’s fair in love and chemistry. It’s 1960s California and there are cert\n",
      "Product 8 overview : \n",
      "Notes From Your BooksellerFeyre and Rhysand’s journey continues in the third book of A Court of Thor\n",
      "Product 9 overview : \n",
      "Notes From Your BooksellerThere are many titles to choose from in Colleen Hoover’s work. But here is\n",
      "Product 10 overview : \n",
      "Notes From Your BooksellerAs a lover of Beauty and the Beast, I can assure you that Maas’s A Court o\n",
      "Product 11 overview : \n",
      "Notes From Your BooksellerTake on the world with Go Get ‘Em, Tiger! by your side. This sweet book wi\n",
      "Product 12 overview : \n",
      "Notes From Your BooksellerThe second book in A Court of Thorn and Roses series lures readers back in\n",
      "Product 13 overview : \n",
      "A steamy contemporary royal romance from BookTok sensation Ana Huang.Stoic, broody, and arrogant, el\n",
      "Product 14 overview : \n",
      "Notes From Your BooksellerThe third book in the Dreamland Billionaires series not only adds to the s\n",
      "Product 15 overview : \n",
      "Notes From Your BooksellerIf every ending has a new beginning then here's what you've been waiting f\n",
      "Product 16 overview : \n",
      "Former Secretary of State and CIA Director Mike Pompeo spearheaded the Trump Administration’s most s\n",
      "Product 17 overview : \n",
      "A diverse steamy enemies to lovers romance from BookTok sensation Ana Huang.Gorgeous, cocky, and fas\n",
      "Product 18 overview : \n",
      "From Georgia's first Black Senator Raphael Warnock comes an inspiring picture book about finding you\n",
      "Product 19 overview : \n",
      "Notes From Your BooksellerShadowhunter fans rejoice – this stunning conclusion to The Last Hours ser\n",
      "Product 20 overview : \n",
      "Notes From Your BooksellerThe Creative Act sits at the intersection of self-help and spirituality. W\n",
      "Product 21 overview : \n",
      "Notes From Your BooksellerSarah J. Maas gifts us all with this novella piecing together what happens\n",
      "Product 22 overview : \n",
      "Notes From Your BooksellerWe adore TJ Klune and his charming, big-hearted books like The House in th\n",
      "Product 23 overview : \n",
      "Notes From Your Bookseller\n",
      "Avery Grambs is a relative nobody when she learns that an eccentric billi\n",
      "Product 24 overview : \n",
      "The final book in the Twisted series from BookTok sensation Ana Huang, featuring fan favorites Chris\n",
      "Product 25 overview : \n",
      "Notes From Your BooksellerAfter years following the epic journey of Feyre, her sister Nesta finally \n",
      "Product 26 overview : \n",
      "Years in the making, Sarah J. Maas's #1 New York Times bestselling Throne of Glass series draws to a\n",
      "Product 27 overview : \n",
      "The bestselling thriller with “a tantalizing premise and twists at every turn . . . a sizzling, mast\n",
      "Product 28 overview : \n",
      "Notes From Your BooksellerSet nine years after the events of The Queen of Nothing, The Stolen Heir i\n",
      "Product 29 overview : \n",
      "Notes From Your BooksellerFor fans of the hit show Only Murders in the Building, this murder mystery\n",
      "Product 30 overview : \n",
      "Notes From Your BooksellerCeleste Ng has made a name for herself as a bestselling author and with bo\n",
      "Product 31 overview : \n",
      "Notes From Your BooksellerThoughtful and easy to understand, James Clear’s Atomic Habits is a must f\n",
      "Product 32 overview : \n",
      "Notes From Your BooksellerGlamorous enough to enchant any reader, The Seven Husbands of Evelyn Hugo \n",
      "Product 33 overview : \n",
      "Notes From Your BooksellerIn the captivating follow-up to the addictive queer fantasy, The Night and\n",
      "Product 34 overview : \n",
      "Pirates of the Caribbean meets The Mummy in Vengeance of the Pirate Queen, a beautifully designed st\n",
      "Product 35 overview : \n",
      "He has a heart of ice…but for her, he'd burn the worldA diverse new adult steamy romance from Tiktok\n",
      "Product 36 overview : \n",
      "Notes From Your BooksellerMichaelides has created one of the most engrossing thrillers in his debut \n",
      "Product 37 overview : \n",
      "Instant New York Times Bestseller! James Patterson and Mike Lupica are the thriller dream team! Jenn\n",
      "Product 38 overview : \n",
      "This Barnes & Noble Exclusive Edition contains bonus content and features a unique cover! The adult \n",
      "Product 39 overview : \n",
      "An instant #1 New York Times bestseller! The powerful sequel to the New York Times bestselling and a\n",
      "Product 40 overview : \n",
      "In the next installment of the New York Times bestselling Throne of Glass series, follow Chaol on hi\n"
     ]
    }
   ],
   "source": [
    "for i in range(1 , len(product_page_list) + 1):\n",
    "    print(f\"Product {i} overview : \" )\n",
    "    with open(f\"./product_output/bn_top_100_{i}.html\") as fp:\n",
    "        temp_100_char = \"\"\n",
    "        soup = BeautifulSoup(fp, 'html.parser')\n",
    "        ### locate overview widget\n",
    "        overview = soup.find('div' , attrs = {'class' : 'content overview-expandable-section'})\n",
    "        ### locate all the paragraphs in overview\n",
    "        paragraph = overview.find_all('div')\n",
    "        for p in paragraph:\n",
    "            temp_100_char = temp_100_char + p.text.strip(\" \\n\")\n",
    "\n",
    "        ### print result\n",
    "        print(temp_100_char[:100])"
   ]
  }
 ],
 "metadata": {
  "kernelspec": {
   "display_name": "Python 3 (ipykernel)",
   "language": "python",
   "name": "python3"
  },
  "language_info": {
   "codemirror_mode": {
    "name": "ipython",
    "version": 3
   },
   "file_extension": ".py",
   "mimetype": "text/x-python",
   "name": "python",
   "nbconvert_exporter": "python",
   "pygments_lexer": "ipython3",
   "version": "3.9.6"
  }
 },
 "nbformat": 4,
 "nbformat_minor": 5
}
