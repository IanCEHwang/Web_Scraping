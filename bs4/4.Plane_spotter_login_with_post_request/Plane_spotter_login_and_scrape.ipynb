{
 "cells": [
  {
   "cell_type": "code",
   "execution_count": 2,
   "metadata": {},
   "outputs": [],
   "source": [
    "import requests\n",
    "import json\n",
    "import os\n",
    "import time\n",
    "import pandas as pd\n",
    "from bs4 import BeautifulSoup"
   ]
  },
  {
   "cell_type": "markdown",
   "metadata": {},
   "source": [
    "user name: jorn_fan_boy_01\n",
    "\n",
    "password: jfb422"
   ]
  },
  {
   "cell_type": "markdown",
   "metadata": {},
   "source": [
    "### 1. Access https://www.planespotters.net/user/login Links to an external site. using a standard GET request. Read and store the cookies received in the response.  In addition, parse the response and read (and store to a string variable) the value of the hidden input field that will (most likely) be required in the login process."
   ]
  },
  {
   "cell_type": "code",
   "execution_count": 80,
   "metadata": {},
   "outputs": [],
   "source": [
    "### URL\n",
    "URL = \"https://www.planespotters.net/user/login\""
   ]
  },
  {
   "cell_type": "code",
   "execution_count": 81,
   "metadata": {},
   "outputs": [],
   "source": [
    "### User agent\n",
    "User_Agent = 'Mozilla/5.0 (Windows NT 10.0; Win64; x64) AppleWebKit/537.36 (KHTML, like Gecko) Chrome/88.0.4324.96 Safari/537.36 Edg/88.0.705.56'"
   ]
  },
  {
   "cell_type": "code",
   "execution_count": 82,
   "metadata": {},
   "outputs": [
    {
     "name": "stdout",
     "output_type": "stream",
     "text": [
      "\"cookies\" :  {'__psuid': '28ce570fb0e8732a6c2cddaccfdb32cf', 'ps_sessid': 'oPeoN8f-DAW3HW6TWDBibYCZ0w'}\n",
      "\"csrf\" :  UFd0WEJlS1RtbSt6Ym9XVk93WUFXUT09\n"
     ]
    }
   ],
   "source": [
    "### declare session\n",
    "session_requests = requests.session()\n",
    "\n",
    "page = session_requests.get(URL , headers = {'User-Agent' : User_Agent})\n",
    "html = BeautifulSoup(page.content , 'html.parser')\n",
    "\n",
    "### cookie_jar is our container for cookies\n",
    "cookie_jar = requests.cookies.RequestsCookieJar()\n",
    "\n",
    "### cookies from the page\n",
    "cookies = session_requests.cookies\n",
    "\n",
    "### append cookies into the jar\n",
    "cookie_jar.update(cookies)\n",
    "print('\"cookies\" : ' , cookies.get_dict())\n",
    "\n",
    "### hidden requirements\n",
    "csrf = html.select('input[id = csrf]')[0]['value']\n",
    "print('\"csrf\" : ' , csrf)"
   ]
  },
  {
   "cell_type": "markdown",
   "metadata": {},
   "source": [
    "### 2. Make a post request using the cookies from (1) as well as all required name-value-pairs (including your username and passwords)."
   ]
  },
  {
   "cell_type": "code",
   "execution_count": 83,
   "metadata": {
    "scrolled": true
   },
   "outputs": [
    {
     "name": "stdout",
     "output_type": "stream",
     "text": [
      "Login successful\n"
     ]
    }
   ],
   "source": [
    "### login information\n",
    "payload = {'username': 'jorn_fan_boy_01',\n",
    "           'password' : 'jfb422',\n",
    "           'csrf' : str(csrf),\n",
    "            'rid' : ''}\n",
    "\n",
    "### csrf and user agent\n",
    "headers = {'User-Agent' : User_Agent}\n",
    "\n",
    "### login to page\n",
    "r = session_requests.post(URL ,\n",
    "                        cookies = cookies,\n",
    "                        headers = headers,\n",
    "                        data = payload)\n",
    "\n",
    "### check if log in\n",
    "if 'jorn' in r.text:\n",
    "    print(\"Login successful\")\n",
    "else:\n",
    "    print(\"Login failed\")"
   ]
  },
  {
   "cell_type": "markdown",
   "metadata": {},
   "source": [
    "### 3. Get the cookies from the response of the post request and add them to your cookies from (1)."
   ]
  },
  {
   "cell_type": "code",
   "execution_count": 84,
   "metadata": {},
   "outputs": [
    {
     "name": "stdout",
     "output_type": "stream",
     "text": [
      "{'__psuid': '28ce570fb0e8732a6c2cddaccfdb32cf', 'ps_sessid': 'q3FHYx0CVMf9C0ZaelrukUTNMT'}\n"
     ]
    }
   ],
   "source": [
    "### new cookies\n",
    "new_cookies = session_requests.cookies.get_dict()\n",
    "\n",
    "print(new_cookies)"
   ]
  },
  {
   "cell_type": "code",
   "execution_count": 85,
   "metadata": {},
   "outputs": [],
   "source": [
    "### update cookie jar\n",
    "new_jar = cookie_jar.get_dict()\n",
    "new_jar.update(new_cookies)"
   ]
  },
  {
   "cell_type": "code",
   "execution_count": 87,
   "metadata": {},
   "outputs": [
    {
     "name": "stdout",
     "output_type": "stream",
     "text": [
      "{'__psuid': '28ce570fb0e8732a6c2cddaccfdb32cf', 'ps_sessid': 'q3FHYx0CVMf9C0ZaelrukUTNMT'}\n"
     ]
    }
   ],
   "source": [
    "### check new cookies\n",
    "print(new_jar)"
   ]
  },
  {
   "cell_type": "markdown",
   "metadata": {},
   "source": [
    "### 4. Verifies that you are logged in by accessing the profile page https://www.planespotters.net/member/profile Links to an external site. with the saved cookies."
   ]
  },
  {
   "cell_type": "code",
   "execution_count": 88,
   "metadata": {},
   "outputs": [],
   "source": [
    "### new url\n",
    "profile_url = \"https://www.planespotters.net/member/profile\"\n",
    "\n",
    "### try to get website with old cookies\n",
    "p3 = session_requests.get(profile_url, headers = headers , cookies = new_jar)"
   ]
  },
  {
   "cell_type": "code",
   "execution_count": 93,
   "metadata": {
    "scrolled": false
   },
   "outputs": [
    {
     "name": "stdout",
     "output_type": "stream",
     "text": [
      "login successfully\n"
     ]
    }
   ],
   "source": [
    "### check if username is present in new webpage\n",
    "if b'jorn' in p3.content:\n",
    "    print(\"login successfully\")\n",
    "else:\n",
    "    print(\"login failed\")"
   ]
  },
  {
   "cell_type": "markdown",
   "metadata": {},
   "source": [
    "### 5 .Then, print out the following at the end:"
   ]
  },
  {
   "cell_type": "markdown",
   "metadata": {},
   "source": [
    "#### A .The entire Jsoup/BeautifulSoup document of your profile page.\n",
    "#### B. All (combined) cookies from (3).\n",
    "#### C. A boolean value to show your username is contained in the document in part (5)(a)."
   ]
  },
  {
   "cell_type": "code",
   "execution_count": 96,
   "metadata": {},
   "outputs": [
    {
     "name": "stdout",
     "output_type": "stream",
     "text": [
      "<!DOCTYPE html>\n",
      "\n",
      "<html lang=\"en\">\n",
      "<head>\n",
      "<meta charset=\"utf-8\"/>\n",
      "<title>My Profile</title>\n",
      "<meta content=\"width=1080\" name=\"viewport\"/>\n",
      "<meta content=\"ie=edge\" http-equiv=\"x-ua-compatible\"/>\n",
      "<link href=\"/favicon.ico\" rel=\"shortcut icon\"/>\n",
      "<link href=\"/favicon_16.png\" rel=\"icon\" sizes=\"16x16\" type=\"image/png\"/>\n",
      "<link href=\"/favicon_64.png\" rel=\"icon\" sizes=\"64x64\" type=\"image/png\"/>\n",
      "<link href=\"/favicon_196.png\" rel=\"icon\" sizes=\"196x196\" type=\"image/png\"/>\n",
      "<link href=\"/favicon.svg\" rel=\"icon\" sizes=\"any\" type=\"image/svg+xml\"/>\n",
      "<link href=\"/apple-touch-icon.png\" rel=\"apple-touch-icon\" sizes=\"180x180\"/>\n",
      "<link color=\"#1e2837\" href=\"/static/img/safari-pinned-tab.svg\" rel=\"mask-icon\"/>\n",
      "<meta content=\"Planespotters\" name=\"application-name\"/>\n",
      "<meta content=\"#1e2837\" name=\"theme-color\"/>\n",
      "<link href=\"/site.webmanifest\" rel=\"manifest\"/>\n",
      "<script async=\"\" src=\"https://www.googletagmanager.com/gtag/js?id=G-NMJZKP0929\"></script>\n",
      "<script>\n",
      "\twindow.dataLayer = window.dataLayer || [];\n",
      "\tfunction gtag() { dataLayer.push(arguments); }\n",
      "\tgtag('consent', 'default', {\n",
      "\t\t'ad_storage': 'denied',\n",
      "\t\t'analytics_storage': 'denied',\n",
      "\t\t'wait_for_update': 1500 //milliseconds\n",
      "\t});\n",
      "\tgtag('set', 'ads_data_redaction', true);\n",
      "\tgtag('js', new Date());\n",
      "\tgtag('config', 'G-NMJZKP0929', { 'anonymize_ip': true });\n",
      "</script>\n",
      "<script async=\"async\" src=\"https://cdn-a.yieldlove.com/v2/yieldlove.js?planespotters.net\"></script>\n",
      "<link href=\"https://static4.planespotters.net/css/theme-4c730e4d48.min.css\" rel=\"stylesheet\" type=\"text/css\">\n",
      "<script src=\"https://static4.planespotters.net/js/planespotters-2e9a2d4db4.min.js\"></script>\n",
      "</link></head>\n",
      "<body class=\"bootstrap\">\n",
      "<header class=\"page__header\">\n",
      "<nav class=\"header__menu\">\n",
      "<a class=\"header__logo\" href=\"/\" name=\"top\"></a>\n",
      "<ul>\n",
      "<li class=\"submenu\">\n",
      "<a href=\"/photo/search\">Photos</a>\n",
      "<ul>\n",
      "<li><a href=\"/photos/latest\">Latest Additions</a></li>\n",
      "<li><a href=\"/photos/popular\">Most Popular</a></li>\n",
      "<li><a href=\"/photos/editorsChoice\">Editor's Choice</a></li>\n",
      "<li><a href=\"/photos/favorited\">User Favorites</a></li>\n",
      "<li><a href=\"/photos\">Photo Search</a></li>\n",
      "<li class=\"divider\"></li>\n",
      "<li><a href=\"/photo/upload\">Upload Your Photos</a></li>\n",
      "</ul>\n",
      "</li>\n",
      "<li class=\"submenu\">\n",
      "<a href=\"/production-list/index\">Aircraft</a>\n",
      "<ul>\n",
      "<li><a href=\"/production-list/index\">Production Lists</a></li>\n",
      "<li><a href=\"/deliveries\">Latest Deliveries</a></li>\n",
      "<li class=\"divider\"></li>\n",
      "<li><a href=\"/special/boeing-737-max-grounding\">Boeing 737 MAX Special</a></li>\n",
      "<li><a href=\"/special/boeing-787\">Boeing 787 Special</a></li>\n",
      "<li><a href=\"/special/an225\">Antonov An-225 Tribute</a></li>\n",
      "</ul>\n",
      "</li>\n",
      "<li class=\"submenu\">\n",
      "<a href=\"/airlines\">Airlines</a>\n",
      "<ul>\n",
      "<li><a href=\"/airlines\">Airline Index</a></li>\n",
      "<li><a href=\"/airlines/country\">Airlines by Country</a></li>\n",
      "</ul>\n",
      "</li>\n",
      "</ul>\n",
      "<form accept-charset=\"utf-8\" action=\"/search\" class=\"page__header_search\" method=\"get\">\n",
      "<input autocomplete=\"off\" id=\"q\" name=\"q\" type=\"text\"/>\n",
      "<button type=\"submit\"><i class=\"fa fa-search\"></i></button>\n",
      "</form>\n",
      "<ul>\n",
      "<li class=\"submenu submenu-left\">\n",
      "<a class=\"header__menu_profile_icon\" href=\"/member/profile\">\n",
      "<i class=\"fa fa-user-o\"></i>\n",
      "</a>\n",
      "<ul>\n",
      "<li><a href=\"/member/profile\">Profile</a></li>\n",
      "<li><a href=\"/member/profile/settings\">Settings</a></li>\n",
      "<li><a class=\"\" href=\"/member/photo/screening\">Screening Info</a></li>\n",
      "<li><a href=\"/member/photo/stats\">Photo Stats</a></li>\n",
      "<li><a href=\"/photos/favorites\">My Favorites</a></li>\n",
      "<li><a href=\"/photos/gallery/jorn_fan_boy_01\">Personal Gallery</a></li>\n",
      "<li class=\"divider\"></li>\n",
      "<li><a href=\"/user/logout\">Log Out</a></li>\n",
      "</ul>\n",
      "</li>\n",
      "</ul>\n",
      "</nav>\n",
      "</header>\n",
      "<main class=\"\" id=\"content\">\n",
      "<div class=\"container950 padding-vertical-30\">\n",
      "<div class=\"flex-row\">\n",
      "<div class=\"flex-column flex-300\">\n",
      "<div class=\"margin-30 text-center\">\n",
      "<img class=\"user__profile_picture\" height=\"200\" src=\"data:image/svg+xml,%3Csvg%20xmlns%3D%22http%3A%2F%2Fwww.w3.org%2F2000%2Fsvg%22%20viewBox%3D%220%200%201024%201024%22%20style%3D%22background%3A%23cccccc%22%3E%3Ctext%20text-anchor%3D%22middle%22%20dy%3D%22.35em%22%20x%3D%22512%22%20y%3D%22512%22%20fill%3D%22%23ffffff%22%20font-size%3D%22550%22%20font-family%3D%22-apple-system%2C%20BlinkMacSystemFont%2C%20Open%20Sans%2C%20Verdana%2C%20Helvetica%2C%20Arial%2C%20sans-serif%22%3EI%3C%2Ftext%3E%3C%2Fsvg%3E\" width=\"200\"/> </div>\n",
      "<div style=\"width: 200px; margin-left: auto; margin-right: auto;\">\n",
      "<a class=\"btn btn-flat-default-new btn-md btn-display-block member_profile__photo_upload\" href=\"/member/profile/photo\"><i class=\"fa fa-upload\"></i> Upload New Image</a>\n",
      "</div>\n",
      "</div>\n",
      "<div class=\"flex-column\">\n",
      "<h1 class=\"headline-spacer\">Profile</h1>\n",
      "<table class=\"table-light\">\n",
      "<tr>\n",
      "<th>Name</th>\n",
      "<td>Ian</td>\n",
      "<td><a class=\"btn btn-flat-default btn-xs\" href=\"/member/profile/name\"><i class=\"fa fa-pencil\"></i> Edit</a></td>\n",
      "</tr>\n",
      "<tr>\n",
      "<th>Username</th>\n",
      "<td>jorn_fan_boy_01</td>\n",
      "<td><a class=\"btn btn-flat-default btn-xs\" href=\"/member/profile/username\"><i class=\"fa fa-pencil\"></i> Edit</a></td>\n",
      "</tr>\n",
      "<tr>\n",
      "<th>E-Mail</th>\n",
      "<td>ian09855158@gmail.com</td>\n",
      "<td><a class=\"btn btn-flat-default btn-xs\" href=\"/member/profile/email\"><i class=\"fa fa-pencil\"></i> Edit</a></td>\n",
      "</tr>\n",
      "<tr>\n",
      "<th>Member since</th>\n",
      "<td>08 February 2023</td>\n",
      "<td></td>\n",
      "</tr>\n",
      "</table>\n",
      "<div class=\"margin-30\">\n",
      "<h6 class=\"heading-new-muted text-uppercase\">Password</h6>\n",
      "<a class=\"btn btn-flat-default-new btn-md\" href=\"/member/profile/password\">Change Password</a>\n",
      "</div>\n",
      "<div class=\"margin-30\">\n",
      "<h6 class=\"heading-new-muted text-uppercase\">Settings</h6>\n",
      "<a class=\"btn btn-flat-default-new btn-md\" href=\"/member/profile/settings\"><i class=\"fa fa-cog\"></i> View Settings</a>\n",
      "</div>\n",
      "<h1 class=\"headline-spacer margin\">Photos</h1>\n",
      "<div class=\"padding-20 flex-row\">\n",
      "<div class=\"flex-column stats-box text-center\">\n",
      "<h4>\n",
      "<a data-toggle=\"tooltip\" href=\"/photos/gallery/jorn_fan_boy_01\" title=\"0 Photos online\">\n",
      "<i class=\"fa fa-camera\"></i> 0                        </a>\n",
      "</h4>\n",
      "</div>\n",
      "<div class=\"flex-column stats-box text-center\">\n",
      "<h4>\n",
      "<a data-toggle=\"tooltip\" href=\"/member/photo/screening\" title=\"0 Photos in screening\">\n",
      "<i class=\"fa fa-hourglass-half\"></i> 0                        </a>\n",
      "</h4>\n",
      "</div>\n",
      "<div class=\"flex-column stats-box text-center\">\n",
      "<h4>\n",
      "<a data-toggle=\"tooltip\" href=\"/member/photo/stats\" title=\"0 Total Views\">\n",
      "<i class=\"mi mi-remove_red_eye\"></i> 0                        </a>\n",
      "</h4>\n",
      "</div>\n",
      "<div class=\"flex-column stats-box text-center\">\n",
      "<h4>\n",
      "<a data-toggle=\"tooltip\" href=\"/photos/gallery/jorn_fan_boy_01?special=favorited\" title=\"0 Photo Favorites\">\n",
      "<i class=\"fa fa-star-o\"></i> 0                        </a>\n",
      "</h4>\n",
      "</div>\n",
      "<div class=\"flex-column\">\n",
      "<a class=\"btn btn-flat-default-new btn-md\" href=\"/member/photo/stats\"><i class=\"fa fa-bar-chart\"></i> Photo Stats</a>\n",
      "</div>\n",
      "</div>\n",
      "<div class=\"margin-20\">\n",
      "<h6 class=\"heading-new-muted text-uppercase\">Upload &amp; Screening</h6>\n",
      "<table class=\"table-light\">\n",
      "<tr>\n",
      "<td width=\"30%\">\n",
      "<a class=\"btn btn-flat-default-new btn-md btn-display-block\" href=\"/photo/upload\"><i class=\"fa fa-plus\"></i> Upload Photos</a>\n",
      "</td>\n",
      "<td>\n",
      "                            Upload new photos\n",
      "                        </td>\n",
      "</tr>\n",
      "<tr>\n",
      "<td>\n",
      "<a class=\"btn btn-flat-default-new btn-md btn-display-block\" href=\"/member/photo/screening\"><i class=\"fa fa-info-circle\"></i> Screening Info</a>\n",
      "</td>\n",
      "<td>\n",
      "                            Follow along with the screening progress and check screening results.\n",
      "                        </td>\n",
      "</tr>\n",
      "<tr>\n",
      "<td>\n",
      "<a class=\"btn btn-flat-default-new btn-md btn-display-block\" href=\"/photo/reupload\"><i class=\"fa fa-repeat\"></i> Re-Upload Photos</a>\n",
      "</td>\n",
      "<td>\n",
      "                            Re-upload better versions of already accepted photos\n",
      "                        </td>\n",
      "</tr>\n",
      "</table>\n",
      "</div>\n",
      "<div class=\"margin-20\">\n",
      "<h6 class=\"heading-new-muted text-uppercase\">Manage Photos</h6>\n",
      "<table class=\"table-light\">\n",
      "<tr>\n",
      "<td width=\"30%\">\n",
      "<a class=\"btn btn-flat-default-new btn-md btn-display-block\" href=\"/photos/gallery/jorn_fan_boy_01?watermark=0\"><i class=\"fa fa-search\"></i> Watermark</a>\n",
      "</td>\n",
      "<td>\n",
      "                                Find photos without watermark\n",
      "                            </td>\n",
      "</tr>\n",
      "<tr>\n",
      "<td width=\"30%\">\n",
      "<a class=\"btn btn-flat-default-new btn-md btn-display-block\" href=\"/photos/favorites\"><i class=\"fa fa-star-o\"></i> My Favorites</a>\n",
      "</td>\n",
      "<td>\n",
      "                            Show and manage my favorites\n",
      "                        </td>\n",
      "</tr>\n",
      "</table>\n",
      "</div>\n",
      "</div>\n",
      "</div>\n",
      "</div>\n",
      "</main>\n",
      "<footer class=\"page__footer\">\n",
      "<div class=\"container950\">\n",
      "<div class=\"grid-4\">\n",
      "<div>\n",
      "<h6><a href=\"/\">Home</a></h6>\n",
      "<h6><a href=\"/about\">About</a></h6>\n",
      "<ul class=\"list-unstyled\">\n",
      "<li><a href=\"/about\">About Us</a></li>\n",
      "<li><a href=\"/help/contact\">Contact</a></li>\n",
      "</ul>\n",
      "</div>\n",
      "<div>\n",
      "<h6>Aircraft</h6>\n",
      "<ul class=\"list-unstyled\">\n",
      "<li><a href=\"/production-list/index\">Production Lists</a></li>\n",
      "<li><a href=\"/deliveries\">Deliveries</a></li>\n",
      "</ul>\n",
      "<h6 class=\"margin-top-20\">Airlines</h6>\n",
      "<ul class=\"list-unstyled\">\n",
      "<li><a href=\"/airlines\">Index</a></li>\n",
      "<li><a href=\"/airlines/country\">Country List</a></li>\n",
      "</ul>\n",
      "</div>\n",
      "<div>\n",
      "<h6>Photos</h6>\n",
      "<ul class=\"list-unstyled\">\n",
      "<li><a href=\"/photos/latest\">Latest Additions</a></li>\n",
      "<li><a href=\"/photos/top/24hrs\">Most Popular Last 24hrs</a></li>\n",
      "<li><a href=\"/photos/editorsChoice\">Editor's Choice</a></li>\n",
      "<li><a href=\"/photo/upload\">Upload Your Photos</a></li>\n",
      "</ul>\n",
      "<h6 class=\"margin-top-20\"><a href=\"/photo/api\">Photo API</a></h6>\n",
      "</div>\n",
      "<div>\n",
      "<h6>Legal</h6>\n",
      "<ul class=\"list-unstyled\">\n",
      "<li><a href=\"/legal/termsofuse\">Terms of Use</a></li>\n",
      "<li><a href=\"/legal/privacypolicy\">Privacy Policy</a></li>\n",
      "<li><a href=\"/legal/cookiepolicy\">Cookie Policy</a></li>\n",
      "<li><a class=\"\" href=\"javascript:void(0);\" onclick=\"window.yieldlove_cmp.loadPrivacyManager();\">Privacy Manager</a></li>\n",
      "</ul>\n",
      "</div>\n",
      "</div>\n",
      "<div class=\"margin-top-20\">\n",
      "<h6><a href=\"/photos/latest\">Latest Photos</a></h6>\n",
      "<div class=\"photo_large__nav_list flex-row flex-left\">\n",
      "<a class=\"photo_large__nav_list_item\" href=\"/photo/1386151/n3115j-jetblue-airways-airbus-a220-300-bd-500-1a11?sid=3cb4423aecf5ddc1e3ddeed973dca5df&amp;sc=0\"><img alt=\"N3115J | JetBlue Airways | Airbus A220-300 (BD-500-1A11)\" src=\"https://t.plnspttrs.net/10446/1386151_c2ef91e5ac_t.jpg\"/></a>\n",
      "<a class=\"photo_large__nav_list_item\" href=\"/photo/1386150/ph-bhh-klm-royal-dutch-airlines-boeing-787-9-dreamliner?sid=3cb4423aecf5ddc1e3ddeed973dca5df&amp;sc=1\"><img alt=\"PH-BHH | KLM Royal Dutch Airlines | Boeing 787-9 Dreamliner\" src=\"https://t.plnspttrs.net/34266/1386150_7c8a237f4b_t.jpg\"/></a>\n",
      "<a class=\"photo_large__nav_list_item\" href=\"/photo/1386149/vt-alj-air-india-boeing-777-337er?sid=3cb4423aecf5ddc1e3ddeed973dca5df&amp;sc=2\"><img alt=\"VT-ALJ | Air India | Boeing 777-337ER\" src=\"https://t.plnspttrs.net/07520/1386149_87d983c45a_t.jpg\"/></a>\n",
      "<a class=\"photo_large__nav_list_item\" href=\"/photo/1386148/ei-ifd-ita-airways-airbus-a350-941?sid=3cb4423aecf5ddc1e3ddeed973dca5df&amp;sc=3\"><img alt=\"EI-IFD | ITA Airways | Airbus A350-941\" src=\"https://t.plnspttrs.net/22436/1386148_25cc4c8995_t.jpg\"/></a>\n",
      "<a class=\"photo_large__nav_list_item\" href=\"/photo/1386147/ec-nbe-iberia-airbus-a350-941?sid=3cb4423aecf5ddc1e3ddeed973dca5df&amp;sc=4\"><img alt=\"EC-NBE | Iberia | Airbus A350-941\" src=\"https://t.plnspttrs.net/06878/1386147_9cb22cf432_t.jpg\"/></a>\n",
      "<a class=\"photo_large__nav_list_item\" href=\"/photo/1386146/d-aihw-lufthansa-airbus-a340-642?sid=3cb4423aecf5ddc1e3ddeed973dca5df&amp;sc=5\"><img alt=\"D-AIHW | Lufthansa | Airbus A340-642\" src=\"https://t.plnspttrs.net/19751/1386146_17285228ad_t.jpg\"/></a>\n",
      "<a class=\"photo_large__nav_list_item\" href=\"/photo/1386145/a7-anp-qatar-airways-airbus-a350-1041?sid=3cb4423aecf5ddc1e3ddeed973dca5df&amp;sc=6\"><img alt=\"A7-ANP | Qatar Airways | Airbus A350-1041\" src=\"https://t.plnspttrs.net/22186/1386145_646249f7bf_t.jpg\"/></a>\n",
      "<a class=\"photo_large__nav_list_item\" href=\"/photo/1386144/a6-eog-emirates-airbus-a380-861?sid=3cb4423aecf5ddc1e3ddeed973dca5df&amp;sc=7\"><img alt=\"A6-EOG | Emirates | Airbus A380-861\" src=\"https://t.plnspttrs.net/36370/1386144_c77352c79d_t.jpg\"/></a>\n",
      "<a class=\"photo_large__nav_list_item\" href=\"/photo/1386143/9v-sku-singapore-airlines-airbus-a380-841?sid=3cb4423aecf5ddc1e3ddeed973dca5df&amp;sc=8\"><img alt=\"9V-SKU | Singapore Airlines | Airbus A380-841\" src=\"https://t.plnspttrs.net/25697/1386143_2aa20b96cb_t.jpg\"/></a>\n",
      "<a class=\"photo_large__nav_list_item\" href=\"/photo/1386142/a6-xwb-etihad-airways-airbus-a350-1041?sid=3cb4423aecf5ddc1e3ddeed973dca5df&amp;sc=9\"><img alt=\"A6-XWB | Etihad Airways | Airbus A350-1041\" src=\"https://t.plnspttrs.net/03877/1386142_a2d3da9c05_t.jpg\"/></a>\n",
      "</div> </div>\n",
      "</div>\n",
      "</footer>\n",
      "<footer class=\"page__footer page__footer_copyright\">\n",
      "<div class=\"container950 text-center\">\n",
      "<p>© Planespotters.net 2023. All rights reserved.</p>\n",
      "</div>\n",
      "</footer>\n",
      "<div class=\"loading-modal\">Loading</div>\n",
      "<script>\n",
      "\tvar _paq = window._paq = window._paq || [];\n",
      "\t/* tracker methods like \"setCustomDimension\" should be called before \"trackPageView\" */\n",
      "\t_paq.push([\"setExcludedQueryParams\", [\"p\",\"sort\",\"dir\"]]);\n",
      "\t_paq.push(['trackPageView']);\n",
      "\t_paq.push(['enableLinkTracking']);\n",
      "\t(function() {\n",
      "\t\tvar u=\"//stats.planespotters.net/\";\n",
      "\t\t_paq.push(['setTrackerUrl', u+'matomo.php']);\n",
      "\t\t_paq.push(['setSiteId', '1']);\n",
      "\t\tvar d=document, g=d.createElement('script'), s=d.getElementsByTagName('script')[0];\n",
      "\t\tg.async=true; g.src=u+'matomo.js'; s.parentNode.insertBefore(g,s);\n",
      "\t})();\n",
      "</script>\n",
      "<script>\n",
      "</script>\n",
      "<script>\n",
      "</script>\n",
      "</body>\n",
      "</html>\n"
     ]
    }
   ],
   "source": [
    "### Convert to bs4 object and print\n",
    "bs4_p3 = BeautifulSoup(p3.content , \"html.parser\")\n",
    "print(bs4_p3)"
   ]
  },
  {
   "cell_type": "code",
   "execution_count": 99,
   "metadata": {},
   "outputs": [
    {
     "name": "stdout",
     "output_type": "stream",
     "text": [
      "Cookies from (3) :\n",
      "{'__psuid': '28ce570fb0e8732a6c2cddaccfdb32cf', 'ps_sessid': 'q3FHYx0CVMf9C0ZaelrukUTNMT'}\n"
     ]
    }
   ],
   "source": [
    "### print cookies\n",
    "print(\"Cookies from (3) :\")\n",
    "print(new_jar)"
   ]
  },
  {
   "cell_type": "code",
   "execution_count": 101,
   "metadata": {},
   "outputs": [
    {
     "name": "stdout",
     "output_type": "stream",
     "text": [
      "True\n"
     ]
    }
   ],
   "source": [
    "### check username\n",
    "\n",
    "### Create Bo\n",
    "Boolean_output = True\n",
    "if b\"jorn_fan_boy_01\" not in p3.content:\n",
    "    Boolean_output = False\n",
    "    \n",
    "print(Boolean_output)"
   ]
  }
 ],
 "metadata": {
  "kernelspec": {
   "display_name": "Python 3 (ipykernel)",
   "language": "python",
   "name": "python3"
  },
  "language_info": {
   "codemirror_mode": {
    "name": "ipython",
    "version": 3
   },
   "file_extension": ".py",
   "mimetype": "text/x-python",
   "name": "python",
   "nbconvert_exporter": "python",
   "pygments_lexer": "ipython3",
   "version": "3.9.6"
  }
 },
 "nbformat": 4,
 "nbformat_minor": 2
}
