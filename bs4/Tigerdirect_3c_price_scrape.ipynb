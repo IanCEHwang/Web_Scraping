{
 "cells": [
  {
   "cell_type": "code",
   "execution_count": 1,
   "id": "8c57e596",
   "metadata": {},
   "outputs": [],
   "source": [
    "import requests\n",
    "import pandas as pd\n",
    "from bs4 import BeautifulSoup\n",
    "import re"
   ]
  },
  {
   "cell_type": "code",
   "execution_count": 2,
   "id": "c8c9f330",
   "metadata": {},
   "outputs": [],
   "source": [
    "### URL\n",
    "URL = \"https://www.tigerdirect.com/applications/SearchTools/item-details.asp?EdpNo=1501390\"\n",
    "\n",
    "### create user agent to imitate real person\n",
    "headers = {'User-Agent': 'Mozilla/5.0'}\n",
    "\n",
    "### request access\n",
    "r = requests.get(URL , headers = headers)\n"
   ]
  },
  {
   "cell_type": "code",
   "execution_count": 3,
   "id": "08ffe706",
   "metadata": {},
   "outputs": [],
   "source": [
    "### Assign bs4 object to soup\n",
    "soup = BeautifulSoup(r.content, 'html5lib')"
   ]
  },
  {
   "cell_type": "markdown",
   "id": "939fccba",
   "metadata": {},
   "source": [
    "## List price"
   ]
  },
  {
   "cell_type": "code",
   "execution_count": 13,
   "id": "134c05e2",
   "metadata": {
    "scrolled": true
   },
   "outputs": [
    {
     "data": {
      "text/plain": [
       "'$1,399.99'"
      ]
     },
     "execution_count": 13,
     "metadata": {},
     "output_type": "execute_result"
    }
   ],
   "source": [
    "### locate \"List price\"\n",
    "table = soup.find('del' , attrs = {'aria-hidden':'true'})\n",
    "\n",
    "### check list price\n",
    "list_price = str(table.contents[0])\n",
    "list_price"
   ]
  },
  {
   "cell_type": "markdown",
   "id": "ae89b42e",
   "metadata": {},
   "source": [
    "## Current price"
   ]
  },
  {
   "cell_type": "code",
   "execution_count": 14,
   "id": "049b19d5",
   "metadata": {},
   "outputs": [
    {
     "data": {
      "text/plain": [
       "'$1,029.99'"
      ]
     },
     "execution_count": 14,
     "metadata": {},
     "output_type": "execute_result"
    }
   ],
   "source": [
    "### locate \"New price\"\n",
    "new_table = soup.find('p' , attrs = {'class':'final-price'}).find('span' , attrs = {'class':'sr-only'})\n",
    "new_price_str = str(new_table.contents[0])\n",
    "\n",
    "### get rid of redundant characters\n",
    "current_price = \"\"\n",
    "for char in new_price_str:\n",
    "    if char.isnumeric() == True:\n",
    "        current_price = current_price + char\n",
    "    elif char == 'a': ### add '.' while seeing 'a'(represent of 'and')\n",
    "        current_price = current_price + '.'\n",
    "    elif char == '$' or char == ',': ### preserve dollar sign for next question\n",
    "        current_price = current_price + char\n",
    "        \n",
    "### check current price\n",
    "current_price\n",
    "\n"
   ]
  },
  {
   "cell_type": "markdown",
   "id": "b1e9afce",
   "metadata": {},
   "source": [
    "## Regex"
   ]
  },
  {
   "cell_type": "code",
   "execution_count": 15,
   "id": "d95bd798",
   "metadata": {},
   "outputs": [
    {
     "name": "stdout",
     "output_type": "stream",
     "text": [
      "List price after regex : 1399.99\n",
      "Current price after regex : 1029.99\n"
     ]
    }
   ],
   "source": [
    "def regex_for_price(price):\n",
    "    ### replace comma\n",
    "    price = re.sub(\",\" , \"\" , price)\n",
    "    \n",
    "    ### return \"number.number\" string\n",
    "    return re.search(\"[0-9]+\\.[0-9]+\" , price)[0]\n",
    "    \n",
    "\n",
    "### list price regex\n",
    "reg_list_price = regex_for_price(list_price)\n",
    "\n",
    "\n",
    "### current price regex\n",
    "reg_current_price = regex_for_price(current_price)\n",
    "\n",
    "\n",
    "print(f'List price after regex : {reg_list_price}')\n",
    "print(f'Current price after regex : {reg_current_price}')"
   ]
  },
  {
   "cell_type": "markdown",
   "id": "e27b34f0",
   "metadata": {},
   "source": [
    "## Load \"https://www.usnews.com/\""
   ]
  },
  {
   "cell_type": "code",
   "execution_count": 2,
   "id": "86c91456",
   "metadata": {},
   "outputs": [],
   "source": [
    "### URL\n",
    "URL = \"https://www.usnews.com/\"\n",
    "\n",
    "headers = {'User-Agent': 'Mozilla/5.0'}\n",
    "\n",
    "### request access\n",
    "r = requests.get(URL , headers = headers)\n"
   ]
  },
  {
   "cell_type": "code",
   "execution_count": 3,
   "id": "43d7468b",
   "metadata": {},
   "outputs": [],
   "source": [
    "### Assign bs4 object to soup\n",
    "soup = BeautifulSoup(r.content, 'html5lib')"
   ]
  },
  {
   "cell_type": "markdown",
   "id": "2b21f28d",
   "metadata": {},
   "source": [
    "## Find Top Stories"
   ]
  },
  {
   "cell_type": "code",
   "execution_count": 4,
   "id": "07030942",
   "metadata": {},
   "outputs": [
    {
     "name": "stdout",
     "output_type": "stream",
     "text": [
      "Head line counter : McCarthy, Biden to Talk Amid Debt Threat\n",
      "Head line counter : Existing Homes Fall 1.5% in December\n"
     ]
    }
   ],
   "source": [
    "### catch all head lines\n",
    "all_head_lines = soup.find('div' , attrs = {'class' : 'Box-w0dun1-0 ArmRestTopStories__Part-s0vo7p-1 erkdnc biVKSR'}).find_all('h3')\n",
    "\n",
    "head_line_list = []\n",
    "\n",
    "### separate headlines and store into list\n",
    "for lines in all_head_lines:\n",
    "    head_line_list.append(lines.text)\n",
    "    \n",
    "### print headlines\n",
    "counter = 1\n",
    "for lines in head_line_list:\n",
    "    print(f\"Head line counter : {lines}\")\n",
    "    counter = counter + 1"
   ]
  },
  {
   "cell_type": "markdown",
   "id": "48a7c66d",
   "metadata": {},
   "source": [
    "## Print URL of second current top story"
   ]
  },
  {
   "cell_type": "code",
   "execution_count": 5,
   "id": "7b532319",
   "metadata": {},
   "outputs": [
    {
     "data": {
      "text/plain": [
       "'https://www.usnews.com/news/economy/articles/2023-01-20/existing-homes-fall-1-5-in-december-marking-11th-month-of-declines'"
      ]
     },
     "execution_count": 5,
     "metadata": {},
     "output_type": "execute_result"
    }
   ],
   "source": [
    "top_story2_href = all_head_lines[1].find('a')['href']\n",
    "top_story2_href"
   ]
  },
  {
   "cell_type": "markdown",
   "id": "50c98d45",
   "metadata": {},
   "source": [
    "## Load top story 2"
   ]
  },
  {
   "cell_type": "code",
   "execution_count": 8,
   "id": "d51dbf00",
   "metadata": {},
   "outputs": [],
   "source": [
    "### request access\n",
    "headers = {'User-Agent': 'Mozilla/5.0'}\n",
    "\n",
    "### request access\n",
    "r = requests.get(top_story2_href , headers = headers)"
   ]
  },
  {
   "cell_type": "code",
   "execution_count": 9,
   "id": "9b131fbf",
   "metadata": {},
   "outputs": [],
   "source": [
    "soup = BeautifulSoup(r.content, 'html5lib')"
   ]
  },
  {
   "cell_type": "markdown",
   "id": "6c08a62c",
   "metadata": {},
   "source": [
    "### Header"
   ]
  },
  {
   "cell_type": "code",
   "execution_count": 10,
   "id": "6c777169",
   "metadata": {},
   "outputs": [
    {
     "name": "stdout",
     "output_type": "stream",
     "text": [
      "Existing Homes Fall 1.5% in December, Marking 11th Month of Declines\n"
     ]
    }
   ],
   "source": [
    "header = soup.find('h1' ,attrs = {'class' : 'Heading-sc-1w5xk2o-0 iQhOvV'}).text\n",
    "print(header)"
   ]
  },
  {
   "cell_type": "markdown",
   "id": "b65076a7",
   "metadata": {},
   "source": [
    "### First 3 sentences"
   ]
  },
  {
   "cell_type": "code",
   "execution_count": 14,
   "id": "3752d2bc",
   "metadata": {},
   "outputs": [
    {
     "name": "stdout",
     "output_type": "stream",
     "text": [
      "Setences 1 :  Sales of existing homes slid 1.5% in December, somewhat better than expected but the 11th straight month of decline, the National Association of Realtors said on Friday.The number was better than estimates of a 3.4% drop and brings the annual rate of home sales just a hair above 4 million.\n",
      "\n",
      "Setences 2 :   Sales are now down 34% from year-ago levels.“December was another difficult month for buyers, who continue to face limited inventory and high mortgage rates,” said NAR Chief Economist Lawrence Yun.\n",
      "\n",
      "Setences 3 :   “However, expect sales to pick up again soon since mortgage rates have markedly declined after peaking late last year.”Prices, meanwhile, were slightly higher with the median selling price of $366,900 coming in at 2.3% above a year ago.Housing has taken it on the chin since the Federal Reserve began raising interest rates in earnest last year to bring down inflation.\n",
      "\n",
      "\n"
     ]
    }
   ],
   "source": [
    "### print all sentences\n",
    "temp_sentences = ''\n",
    "\n",
    "for n in range(0 , len(sentences)):\n",
    "    temp_sentences = temp_sentences + sentences[n].text\n",
    "\n",
    "empty_str = \"\"\n",
    "counter = 0\n",
    "for char_index in range(0, len(temp_sentences) - 1):\n",
    "    if temp_sentences[char_index] == '.' and temp_sentences[char_index + 1] == ' ':\n",
    "        print(f\"Setences {counter + 1} : \",empty_str + '.')\n",
    "        print(\"\")\n",
    "        empty_str = \"\"\n",
    "        counter = counter + 1\n",
    "    elif counter >= 3:\n",
    "        break\n",
    "    else:\n",
    "        empty_str = empty_str + temp_sentences[char_index]\n",
    "    \n",
    "    \n",
    "print(empty_str)"
   ]
  }
 ],
 "metadata": {
  "kernelspec": {
   "display_name": "Python 3 (ipykernel)",
   "language": "python",
   "name": "python3"
  },
  "language_info": {
   "codemirror_mode": {
    "name": "ipython",
    "version": 3
   },
   "file_extension": ".py",
   "mimetype": "text/x-python",
   "name": "python",
   "nbconvert_exporter": "python",
   "pygments_lexer": "ipython3",
   "version": "3.9.6"
  }
 },
 "nbformat": 4,
 "nbformat_minor": 5
}
